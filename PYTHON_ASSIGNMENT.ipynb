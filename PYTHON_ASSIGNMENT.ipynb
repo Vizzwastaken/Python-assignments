{
 "cells": [
  {
   "cell_type": "code",
   "execution_count": 3,
   "metadata": {},
   "outputs": [
    {
     "name": "stdout",
     "output_type": "stream",
     "text": [
      "enter the no81\n",
      "is an harshad no\n"
     ]
    }
   ],
   "source": [
    "#HARSHAD NUMBER\n",
    "\n",
    "def isharshad(x):\n",
    "    n=x\n",
    "    s=0\n",
    "    while(n>0):\n",
    "         rem = n%10;    \n",
    "         s = s + rem;    \n",
    "         n = n//10; \n",
    "    if(x%s ==0):\n",
    "        print(\"is a harshad number\")\n",
    "    else:\n",
    "        print(\"not an harshad number\")\n",
    "        \n",
    "x = int(input(\"enter the no\"))\n",
    "isharshad(x)"
   ]
  },
  {
   "cell_type": "code",
   "execution_count": 4,
   "metadata": {},
   "outputs": [
    {
     "name": "stdout",
     "output_type": "stream",
     "text": [
      "2002,2009,2016,2023,2037,2044,2051,2058,2072,2079,2086,2093,2107,2114,2121,2128,2142,2149,2156,2163,2177,2184,2191,2198,2212,2219,2226,2233,2247,2254,2261,2268,2282,2289,2296,2303,2317,2324,2331,2338,2352,2359,2366,2373,2387,2394,2401,2408,2422,2429,2436,2443,2457,2464,2471,2478,2492,2499,2506,2513,2527,2534,2541,2548,2562,2569,2576,2583,2597,2604,2611,2618,2632,2639,2646,2653,2667,2674,2681,2688,2702,2709,2716,2723,2737,2744,2751,2758,2772,2779,2786,2793,2807,2814,2821,2828,2842,2849,2856,2863,2877,2884,2891,2898,2912,2919,2926,2933,2947,2954,2961,2968,2982,2989,2996,3003,3017,3024,3031,3038,3052,3059,3066,3073,3087,3094,3101,3108,3122,3129,3136,3143,3157,3164,3171,3178,3192,3199,"
     ]
    }
   ],
   "source": [
    "#Write a program which will find all such numbers which are divisible by 7 but are not a multiple of 5\n",
    "\n",
    "for i in range(2000,3201):\n",
    "    if(i%7==0 and i%5!=0):\n",
    "        print(i,end=',')\n",
    "        "
   ]
  },
  {
   "cell_type": "code",
   "execution_count": 9,
   "metadata": {},
   "outputs": [
    {
     "name": "stdout",
     "output_type": "stream",
     "text": [
      "enter the no8\n",
      "40320\n"
     ]
    }
   ],
   "source": [
    "#factorial of a number\n",
    "\n",
    "n=int(input(\"enter the no\"))\n",
    "fact=1\n",
    "for i in range(1,n+1):\n",
    "    fact=fact*i\n",
    "print(fact)"
   ]
  },
  {
   "cell_type": "code",
   "execution_count": 10,
   "metadata": {},
   "outputs": [
    {
     "name": "stdout",
     "output_type": "stream",
     "text": [
      "hello\n",
      "hello\n",
      "hello\n",
      "hello\n"
     ]
    }
   ],
   "source": [
    "#print hello 4 times\n",
    "\n",
    "for i in range(4):\n",
    "    print(\"hello\")"
   ]
  },
  {
   "cell_type": "code",
   "execution_count": 18,
   "metadata": {},
   "outputs": [
    {
     "name": "stdout",
     "output_type": "stream",
     "text": [
      "enter the string1hello\n",
      "enter the string2HELLO\n",
      "same\n"
     ]
    }
   ],
   "source": [
    "# function istrcmp to compare two strings\n",
    "\n",
    "def istrcmp(x,y):\n",
    "    x=x.upper()\n",
    "    y=y.upper()\n",
    "    if(x==y):\n",
    "        print(\"same\")\n",
    "    else:\n",
    "        print(\"not same\")\n",
    "\n",
    "x=input(\"enter the string1\")\n",
    "y=input(\"enter the string2\")\n",
    "istrcmp(x,y)"
   ]
  },
  {
   "cell_type": "code",
   "execution_count": 21,
   "metadata": {},
   "outputs": [
    {
     "name": "stdout",
     "output_type": "stream",
     "text": [
      "enter the number10\n",
      "{1: 1, 2: 4, 3: 9, 4: 16, 5: 25, 6: 36, 7: 49, 8: 64, 9: 81, 10: 100}\n"
     ]
    }
   ],
   "source": [
    "#program to generate a dictionary that contains (i, i*i)\n",
    "\n",
    "dict={}\n",
    "n = int(input(\"enter the number\"))\n",
    "for i in range(1,n+1):\n",
    "    dict[i]=(i*i)\n",
    "print(dict)"
   ]
  },
  {
   "cell_type": "code",
   "execution_count": 27,
   "metadata": {},
   "outputs": [
    {
     "name": "stdout",
     "output_type": "stream",
     "text": [
      "enter the numbers1,2,3\n",
      "['1', '2', '3']\n",
      "('1', '2', '3')\n"
     ]
    }
   ],
   "source": [
    "#generate a list and a tuple which contains every number.\n",
    "\n",
    "x=input(\"enter the numbers\")\n",
    "x=x.replace(',',\"\")\n",
    "lt=list(x)\n",
    "tp=tuple(lt)\n",
    "print(lt)\n",
    "print(tp)"
   ]
  },
  {
   "cell_type": "code",
   "execution_count": 28,
   "metadata": {},
   "outputs": [
    {
     "ename": "SyntaxError",
     "evalue": "invalid syntax (<ipython-input-28-63f3fa8e1bb4>, line 2)",
     "output_type": "error",
     "traceback": [
      "\u001b[1;36m  File \u001b[1;32m\"<ipython-input-28-63f3fa8e1bb4>\"\u001b[1;36m, line \u001b[1;32m2\u001b[0m\n\u001b[1;33m    be solved by computers.\u001b[0m\n\u001b[1;37m       ^\u001b[0m\n\u001b[1;31mSyntaxError\u001b[0m\u001b[1;31m:\u001b[0m invalid syntax\n"
     ]
    }
   ],
   "source": [
    "#Project Euler is a website with mathematical problems that should/could\n",
    "be solved by computers.\n"
   ]
  },
  {
   "cell_type": "code",
   "execution_count": 81,
   "metadata": {},
   "outputs": [
    {
     "name": "stdout",
     "output_type": "stream",
     "text": [
      "hello\n",
      "HELLO\n"
     ]
    }
   ],
   "source": [
    "#Define a class which has at least two methods:\n",
    "\n",
    "class IOstring():\n",
    "    def get_string(self):\n",
    "        self.s = input()\n",
    "\n",
    "    def print_string(self):\n",
    "        print(self.s.upper())\n",
    "\n",
    "xx = IOstring()\n",
    "xx.get_string()\n",
    "xx.print_string()\n",
    "\n"
   ]
  },
  {
   "cell_type": "code",
   "execution_count": 45,
   "metadata": {},
   "outputs": [
    {
     "name": "stdout",
     "output_type": "stream",
     "text": [
      "enter the numbers100,150,180\n",
      "['100', '150', '180']\n",
      "18,22,24,"
     ]
    }
   ],
   "source": [
    "#Q = Square root of [(2 * C * D)/H]\n",
    "\n",
    "import math\n",
    "c=50\n",
    "h=30\n",
    "x=input(\"enter the numbers\")\n",
    "lt=x.split(',')\n",
    "for i in lt:\n",
    "    i=int(i)\n",
    "    Q = (2*c*i)/h\n",
    "    print(math.trunc(math.sqrt(Q)),end=',')"
   ]
  },
  {
   "cell_type": "code",
   "execution_count": 55,
   "metadata": {},
   "outputs": [
    {
     "name": "stdout",
     "output_type": "stream",
     "text": [
      "enter the dimensions3,5\n",
      "[[0, 0, 0, 0, 0], [0, 1, 2, 3, 4], [0, 2, 4, 6, 8]]\n"
     ]
    }
   ],
   "source": [
    "#Write a program which takes 2 digits, X,Y as input and generates a 2-dimensional array. The element value in the i-th row and j-th column of the array should be i*j.\n",
    "\n",
    "D=input(\"enter the dimensions\")\n",
    "lt=D.split(',')\n",
    "I=lt[0]\n",
    "J=lt[1]\n",
    "i=int(I)\n",
    "j=int(J)\n",
    "col=[]\n",
    "for x in range(i):\n",
    "    row=[]\n",
    "    for y in range(j):\n",
    "        row.append(x*y)\n",
    "    col.append(row)\n",
    "print(col)\n"
   ]
  },
  {
   "cell_type": "code",
   "execution_count": 61,
   "metadata": {},
   "outputs": [
    {
     "name": "stdout",
     "output_type": "stream",
     "text": [
      "enter the wordsq,w,e,a,b\n",
      "a,b,e,q,w,"
     ]
    }
   ],
   "source": [
    "#prints the words in a comma-separated sequence after sorting them alphabetically.\n",
    "\n",
    "D=input(\"enter the words\")\n",
    "lt=D.split(',')\n",
    "lt.sort()\n",
    "for l in lt:\n",
    "    print(l,end=\",\")"
   ]
  },
  {
   "cell_type": "code",
   "execution_count": 64,
   "metadata": {},
   "outputs": [
    {
     "name": "stdout",
     "output_type": "stream",
     "text": [
      "enter the lines\n",
      "hello\n",
      "this \n",
      "IS the LINE\n",
      "\n",
      "HELLO\n",
      "THIS \n",
      "IS THE LINE\n"
     ]
    }
   ],
   "source": [
    "#Write a program that accepts sequence of lines as input and prints the lines after making all characters in the sentence capitalized.\n",
    "\n",
    "lines = []\n",
    "print(\"enter the lines\")\n",
    "while True:\n",
    "    line = input()\n",
    "    if line:\n",
    "        lines.append(line)\n",
    "    else:\n",
    "        break\n",
    "for i in lines:\n",
    "    i=i.upper()\n",
    "    print(i)\n",
    "    "
   ]
  },
  {
   "cell_type": "code",
   "execution_count": 69,
   "metadata": {},
   "outputs": [
    {
     "name": "stdout",
     "output_type": "stream",
     "text": [
      "enter the wordszz zz ss ss aa aa vv vv\n",
      "aa ss vv zz "
     ]
    }
   ],
   "source": [
    "#prints the words after removing all duplicate words and sorting them alphanumerically.\n",
    "\n",
    "D=input(\"enter the words\")\n",
    "lt=D.split(' ')\n",
    "lt=list(dict.fromkeys(lt))\n",
    "lt.sort()\n",
    "for i in lt:\n",
    "    print(i,end=' ')\n"
   ]
  },
  {
   "cell_type": "code",
   "execution_count": 83,
   "metadata": {},
   "outputs": [
    {
     "name": "stdout",
     "output_type": "stream",
     "text": [
      "enter a number: 1010,1111,1100,1001\n",
      "1010,1111,"
     ]
    }
   ],
   "source": [
    "#4 digit binary numbers as its input and then check whether they are divisible by 5 or not.\n",
    "\n",
    "binary = input('enter a number: ')\n",
    "lt = binary.split(',')\n",
    "for i in lt:\n",
    "    int(i)\n",
    "    x=int(i, 2)\n",
    "    if(x%5==0):\n",
    "        print(i,end=',')\n"
   ]
  },
  {
   "cell_type": "code",
   "execution_count": 93,
   "metadata": {},
   "outputs": [
    {
     "name": "stdout",
     "output_type": "stream",
     "text": [
      "1000,"
     ]
    },
    {
     "ename": "KeyboardInterrupt",
     "evalue": "",
     "output_type": "error",
     "traceback": [
      "\u001b[1;31m---------------------------------------------------------------------------\u001b[0m",
      "\u001b[1;31mKeyboardInterrupt\u001b[0m                         Traceback (most recent call last)",
      "\u001b[1;32m<ipython-input-93-57643b613acf>\u001b[0m in \u001b[0;36m<module>\u001b[1;34m\u001b[0m\n\u001b[0;32m      2\u001b[0m     \u001b[0mn\u001b[0m\u001b[1;33m=\u001b[0m\u001b[0mi\u001b[0m\u001b[1;33m\u001b[0m\u001b[1;33m\u001b[0m\u001b[0m\n\u001b[0;32m      3\u001b[0m     \u001b[1;32mwhile\u001b[0m\u001b[1;33m(\u001b[0m\u001b[0mi\u001b[0m\u001b[1;33m>\u001b[0m\u001b[1;36m0\u001b[0m\u001b[1;33m)\u001b[0m\u001b[1;33m:\u001b[0m\u001b[1;33m\u001b[0m\u001b[1;33m\u001b[0m\u001b[0m\n\u001b[1;32m----> 4\u001b[1;33m         \u001b[0mi\u001b[0m\u001b[1;33m=\u001b[0m\u001b[0mi\u001b[0m\u001b[1;33m%\u001b[0m\u001b[1;36m10\u001b[0m\u001b[1;33m\u001b[0m\u001b[1;33m\u001b[0m\u001b[0m\n\u001b[0m\u001b[0;32m      5\u001b[0m         \u001b[1;32mif\u001b[0m\u001b[1;33m(\u001b[0m\u001b[0mi\u001b[0m\u001b[1;33m%\u001b[0m\u001b[1;36m2\u001b[0m\u001b[1;33m==\u001b[0m\u001b[1;36m0\u001b[0m\u001b[1;33m)\u001b[0m\u001b[1;33m:\u001b[0m\u001b[1;33m\u001b[0m\u001b[1;33m\u001b[0m\u001b[0m\n\u001b[0;32m      6\u001b[0m             \u001b[0mflag\u001b[0m\u001b[1;33m=\u001b[0m\u001b[1;36m1\u001b[0m\u001b[1;33m\u001b[0m\u001b[1;33m\u001b[0m\u001b[0m\n",
      "\u001b[1;31mKeyboardInterrupt\u001b[0m: "
     ]
    }
   ],
   "source": [
    "#between 1000 and 3000 (both included) such that each digit of the number is an even number.\n",
    "\n",
    "for i in range(1000,3001):\n",
    "    n=i\n",
    "    while(i>0):\n",
    "        i=i%10\n",
    "        if(i%2==0):\n",
    "            flag=1\n",
    "        else:\n",
    "            flag=0\n",
    "            continue\n",
    "        i=i//10\n",
    "    if(flag==1):\n",
    "        print(n,end=',')\n",
    "          \n",
    "    "
   ]
  },
  {
   "cell_type": "code",
   "execution_count": 99,
   "metadata": {},
   "outputs": [
    {
     "name": "stdout",
     "output_type": "stream",
     "text": [
      "enter the sentancewqe qwu 128 sg62 26f\n",
      "LETTERS 9\n",
      "DIGITS 7\n"
     ]
    }
   ],
   "source": [
    "#program that accepts a sentence and calculate the number of letters and digits.\n",
    "x=input(\"enter the sentance\")\n",
    "countalpha=0\n",
    "countnum=0\n",
    "lt=x.split(\" \")\n",
    "for i in lt:\n",
    "    for j in i:\n",
    "        if(j.isalpha()):\n",
    "            countalpha=countalpha+1\n",
    "        elif(j.isnumeric()):\n",
    "            countnum=countnum+1\n",
    "print(\"LETTERS\",countalpha)\n",
    "print(\"DIGITS\",countnum)\n"
   ]
  },
  {
   "cell_type": "code",
   "execution_count": 101,
   "metadata": {},
   "outputs": [
    {
     "name": "stdout",
     "output_type": "stream",
     "text": [
      "enter the sentanceaaAA!\n",
      "UPPER 2\n",
      "LOWER 2\n"
     ]
    }
   ],
   "source": [
    "#program that accepts a sentence and calculate the number of upper case letters and lower case letters.\n",
    "\n",
    "x=input(\"enter the sentance\")\n",
    "countu=0\n",
    "countl=0\n",
    "lt=x.split(\" \")\n",
    "for i in lt:\n",
    "    for j in i:\n",
    "        if(j.isupper()):\n",
    "            countu=countu+1\n",
    "        elif(j.islower()):\n",
    "            countl=countl+1\n",
    "print(\"UPPER\",countu)\n",
    "print(\"LOWER\",countl)"
   ]
  },
  {
   "cell_type": "code",
   "execution_count": 107,
   "metadata": {},
   "outputs": [
    {
     "name": "stdout",
     "output_type": "stream",
     "text": [
      "enter the number9\n",
      "11106\n"
     ]
    }
   ],
   "source": [
    "#program that computes the value of a+aa+aaa+aaaa with a given digit as the value of a.\n",
    "\n",
    "x=input(\"enter the number\")\n",
    "t1=x+x\n",
    "t2=x+x+x\n",
    "t3=x+x+x+x\n",
    "sum=int(x)+int(t1)+int(t2)+int(t3)\n",
    "print(sum)\n"
   ]
  },
  {
   "cell_type": "code",
   "execution_count": 112,
   "metadata": {},
   "outputs": [
    {
     "name": "stdout",
     "output_type": "stream",
     "text": [
      "enter the number1,2,3,4,5\n",
      "1,9,25,"
     ]
    }
   ],
   "source": [
    "#list comprehension to square each odd number in a list.\n",
    "\n",
    "l=input(\"enter the number\")\n",
    "l=l.split(\",\")\n",
    "L=l[0::2]\n",
    "for i in L:\n",
    "    print(int(i)*int(i),end=\",\")\n",
    "\n",
    "    "
   ]
  },
  {
   "cell_type": "code",
   "execution_count": 49,
   "metadata": {},
   "outputs": [
    {
     "name": "stdout",
     "output_type": "stream",
     "text": [
      "D 100\n",
      "W 200\n",
      "D 300\n",
      "\n",
      "200\n"
     ]
    }
   ],
   "source": [
    "#program that computes the net amount of a bank account based a transaction log from console input. The transaction log format is shown as following:\n",
    "#D 100\n",
    "#W 200\n",
    "total = 0\n",
    "while True:\n",
    "    s = input().split()\n",
    "    if not s:            # break if the string is empty\n",
    "        break\n",
    "    cm,num = map(str,s)    # two inputs are distributed in cm and num in string data type\n",
    "\n",
    "    if cm=='D':\n",
    "        total+=int(num)\n",
    "    if cm=='W':\n",
    "        total-=int(num)\n",
    "\n",
    "print(total)"
   ]
  },
  {
   "cell_type": "code",
   "execution_count": 131,
   "metadata": {},
   "outputs": [
    {
     "name": "stdout",
     "output_type": "stream",
     "text": [
      "enter the passwords ABd1234@1,a F1#,2w3E*,2We3345\n",
      "ABd1234@1,"
     ]
    }
   ],
   "source": [
    "# Write a program to check the validity of password input by users.\n",
    "\n",
    "x=input(\"enter the passwords \")\n",
    "lt=x.split(\",\")\n",
    "for j in lt:\n",
    "    flagn=0\n",
    "    flaga=0\n",
    "    flagA=0\n",
    "    flagsp=0\n",
    "    if(len(j)>=6 and len(j)<=12):\n",
    "        for i in j:\n",
    "            if(i.isnumeric()):\n",
    "                if(int(i)>=0 and int(i)<=9):\n",
    "                    flagn=1\n",
    "            if(i.islower()):\n",
    "                flaga=1\n",
    "            if(i.isupper()):\n",
    "                flagA=1\n",
    "            if(i==\"$\" or i==\"#\" or i==\"@\"):\n",
    "                flagsp=1\n",
    "    if(flagn==1 and flaga==1 and flagA==1 and flagsp==1):\n",
    "        print(j,end=\",\")"
   ]
  },
  {
   "cell_type": "code",
   "execution_count": null,
   "metadata": {},
   "outputs": [],
   "source": [
    "lst = []\n",
    "while True:\n",
    "    s = input().split(',')\n",
    "    if not s[0]:                          # breaks for blank input\n",
    "        break\n",
    "    lst.append(tuple(s))\n",
    "\n",
    "lst.sort(key= lambda x:(x[0],int(x[1]),int(x[2])))  # here key is defined by lambda and the data is sorted by element priority 0>1>2 in accending order\n",
    "print(lst)\n"
   ]
  },
  {
   "cell_type": "code",
   "execution_count": 4,
   "metadata": {},
   "outputs": [
    {
     "name": "stdout",
     "output_type": "stream",
     "text": [
      "enter the number15\n",
      "0\n",
      "7\n",
      "14\n"
     ]
    }
   ],
   "source": [
    "#generator which can iterate the numbers, which are divisible by 7\n",
    "\n",
    "def gent(n):\n",
    "    for i in range(n):\n",
    "        if(i%7==0):\n",
    "            yield i\n",
    "n=int(input('enter the number'))\n",
    "mygen=gent(n)\n",
    "for i in mygen:\n",
    "    print(i)\n"
   ]
  },
  {
   "cell_type": "code",
   "execution_count": 83,
   "metadata": {},
   "outputs": [
    {
     "name": "stdout",
     "output_type": "stream",
     "text": [
      "UP 5 DOWN 3 LEFT 3 RIGHT 2\n",
      "UP 5 DOWN 3 LEFT 3 RIGHT 2\n",
      "UP 5 DOWN 3 LEFT 3 RIGHT 2\n",
      "UP 5 DOWN 3 LEFT 3 RIGHT 2\n",
      "\n",
      "20\n"
     ]
    }
   ],
   "source": [
    "import  math\n",
    "\n",
    "x,y = 0,0\n",
    "while True:\n",
    "    s = input().split()\n",
    "    if not s:\n",
    "        break\n",
    "    if s[0]=='UP':                \n",
    "        x-=int(s[1])               \n",
    "    if s[0]=='DOWN':\n",
    "        x+=int(s[1])\n",
    "    if s[0]=='LEFT':\n",
    "        y-=int(s[1])\n",
    "    if s[0]=='RIGHT':\n",
    "        y+=int(s[1])\n",
    "                                    \n",
    "dist = round(math.sqrt(x**2 + y**2))  \n",
    "print(dist)\n"
   ]
  },
  {
   "cell_type": "code",
   "execution_count": null,
   "metadata": {},
   "outputs": [],
   "source": []
  },
  {
   "cell_type": "code",
   "execution_count": 5,
   "metadata": {},
   "outputs": [
    {
     "name": "stdout",
     "output_type": "stream",
     "text": [
      "enter the no 5\n",
      "25\n"
     ]
    }
   ],
   "source": [
    "#method which can calculate square value of number\n",
    "\n",
    "def sq(n):\n",
    "    return n*n\n",
    "n=int(input(\"enter the no \"))\n",
    "print(sq(n))"
   ]
  },
  {
   "cell_type": "code",
   "execution_count": null,
   "metadata": {},
   "outputs": [],
   "source": []
  },
  {
   "cell_type": "code",
   "execution_count": null,
   "metadata": {},
   "outputs": [],
   "source": []
  },
  {
   "cell_type": "code",
   "execution_count": 6,
   "metadata": {},
   "outputs": [
    {
     "name": "stdout",
     "output_type": "stream",
     "text": [
      "enter the no1 10\n",
      "enter the no2 35\n",
      "45\n"
     ]
    }
   ],
   "source": [
    "#function which can compute the sum of two numbers\n",
    "\n",
    "def S(x,y):\n",
    "    return(x+y)\n",
    "x=int(input('enter the no1 '))\n",
    "y=int(input('enter the no2 '))\n",
    "print(S(x,y))"
   ]
  },
  {
   "cell_type": "code",
   "execution_count": 8,
   "metadata": {},
   "outputs": [
    {
     "name": "stdout",
     "output_type": "stream",
     "text": [
      "enter the no 10\n",
      "10\n",
      "<class 'int'>\n",
      "10\n",
      "<class 'str'>\n"
     ]
    }
   ],
   "source": [
    "#function that can convert a integer into a string and print it in console.\n",
    "\n",
    "def stcon(n):\n",
    "    x=str(n)\n",
    "    print(x)\n",
    "    print(type(x))\n",
    "n=int(input('enter the no '))\n",
    "print(n)\n",
    "print(type(n))\n",
    "stcon(n)"
   ]
  },
  {
   "cell_type": "code",
   "execution_count": 9,
   "metadata": {},
   "outputs": [
    {
     "name": "stdout",
     "output_type": "stream",
     "text": [
      "enter the no1 10\n",
      "enter the no2 10\n",
      "<class 'str'>\n",
      "<class 'str'>\n",
      "20\n"
     ]
    }
   ],
   "source": [
    "#function that can receive two integral numbers in string form and compute their sum and then print it in console\n",
    "\n",
    "def strsum(x,y):\n",
    "    x=int(x)\n",
    "    y=int(y)\n",
    "    return(x+y)\n",
    "x=input('enter the no1 ')\n",
    "y=input('enter the no2 ')\n",
    "print(type(x))\n",
    "print(type(y))\n",
    "print(strsum(x,y))"
   ]
  },
  {
   "cell_type": "code",
   "execution_count": 10,
   "metadata": {},
   "outputs": [
    {
     "name": "stdout",
     "output_type": "stream",
     "text": [
      "enter the str1 hello\n",
      "enter the str2 world\n",
      "helloworld\n"
     ]
    }
   ],
   "source": [
    "#function that can accept two strings as input and concatenate them and then print it in console.\n",
    "\n",
    "def con(x,y):\n",
    "    return(x+y)\n",
    "x=input('enter the str1 ')\n",
    "y=input('enter the str2 ')\n",
    "print(con(x,y))"
   ]
  },
  {
   "cell_type": "code",
   "execution_count": 14,
   "metadata": {},
   "outputs": [
    {
     "name": "stdout",
     "output_type": "stream",
     "text": [
      "enter the str1 hey\n",
      "enter the str2 hey\n",
      "hey\n",
      "hey\n"
     ]
    }
   ],
   "source": [
    "#function that can accept two strings as input and print the string with maximum length in console. \n",
    "\n",
    "def strlen(x,y):\n",
    "    l1=len(x)\n",
    "    l2=len(y)\n",
    "    if(l1>l2):\n",
    "        print(x)\n",
    "    elif(l2>l1):\n",
    "         print(y)\n",
    "    else:\n",
    "         print(x)\n",
    "         print(y)\n",
    "x=input('enter the str1 ')\n",
    "y=input('enter the str2 ')\n",
    "strlen(x,y)"
   ]
  },
  {
   "cell_type": "markdown",
   "metadata": {},
   "source": [
    "print(10)"
   ]
  },
  {
   "cell_type": "code",
   "execution_count": 15,
   "metadata": {},
   "outputs": [
    {
     "name": "stdout",
     "output_type": "stream",
     "text": [
      "enter the no 15\n",
      "Odd\n"
     ]
    }
   ],
   "source": [
    "#odd or even\n",
    "\n",
    "def oddeven(x):\n",
    "    if(x%2==0):\n",
    "        print(\"Even\")\n",
    "    else:\n",
    "        print('Odd')\n",
    "x=int(input(\"enter the no \"))\n",
    "oddeven(x)"
   ]
  },
  {
   "cell_type": "code",
   "execution_count": 16,
   "metadata": {},
   "outputs": [
    {
     "name": "stdout",
     "output_type": "stream",
     "text": [
      "{1: 1, 2: 4, 3: 9}\n"
     ]
    }
   ],
   "source": [
    "#unction which can print a dictionary where the keys are numbers between 1 and 3 (both included) and the values are square of keys.\n",
    "\n",
    "\n",
    "def dictsq():\n",
    "    dict={}\n",
    "    for i in range(1,4):\n",
    "        dict[i]=i**2\n",
    "    print(dict)\n",
    "dictsq()"
   ]
  },
  {
   "cell_type": "code",
   "execution_count": 18,
   "metadata": {},
   "outputs": [
    {
     "name": "stdout",
     "output_type": "stream",
     "text": [
      "{1: 1, 2: 4, 3: 9, 4: 16, 5: 25, 6: 36, 7: 49, 8: 64, 9: 81, 10: 100, 11: 121, 12: 144, 13: 169, 14: 196, 15: 225, 16: 256, 17: 289, 18: 324, 19: 361, 20: 400}\n"
     ]
    }
   ],
   "source": [
    "#function which can print a dictionary where the keys are numbers between 1 and 20 (both included) and the values are square of keys.\n",
    "\n",
    "\n",
    "def dictsq():\n",
    "    dict={}\n",
    "    for i in range(1,21):\n",
    "        dict[i]=i**2\n",
    "    print(dict)\n",
    "dictsq()"
   ]
  },
  {
   "cell_type": "code",
   "execution_count": 20,
   "metadata": {},
   "outputs": [
    {
     "name": "stdout",
     "output_type": "stream",
     "text": [
      "1 4 9 16 25 36 49 64 81 100 121 144 169 196 225 256 289 324 361 400 "
     ]
    }
   ],
   "source": [
    "#function which can print a dictionary where the keys are numbers between 1 and 20 (both included) and the values are square of keys.\n",
    "#The function should just print the values only.\n",
    "\n",
    "\n",
    "def dictsq():\n",
    "    dict={}\n",
    "    for i in range(1,21):\n",
    "        dict[i]=i**2\n",
    "    for i in range(1,21):\n",
    "        print(dict[i],end=\" \")\n",
    "dictsq()"
   ]
  },
  {
   "cell_type": "code",
   "execution_count": 23,
   "metadata": {},
   "outputs": [
    {
     "name": "stdout",
     "output_type": "stream",
     "text": [
      "dict_keys([1, 2, 3, 4, 5, 6, 7, 8, 9, 10, 11, 12, 13, 14, 15, 16, 17, 18, 19, 20])\n"
     ]
    }
   ],
   "source": [
    "#function which can generate a dictionary where the keys are numbers between 1 and 20 (both included) and the values are square of keys. The function should just print the keys only.\n",
    "\n",
    "def dictsq():\n",
    "    dict={}\n",
    "    for i in range(1,21):\n",
    "        dict[i]=i**2\n",
    "    print(dict.keys())\n",
    "dictsq()"
   ]
  },
  {
   "cell_type": "code",
   "execution_count": 25,
   "metadata": {},
   "outputs": [
    {
     "name": "stdout",
     "output_type": "stream",
     "text": [
      "[0, 1, 4, 9, 16, 25, 36, 49, 64, 81, 100, 121, 144, 169, 196, 225, 256, 289, 324, 361, 400]\n"
     ]
    }
   ],
   "source": [
    "#function which can generate and print a list where the values are square of numbers between 1 and 20 \n",
    "def ltsq():\n",
    "    lt=[]\n",
    "    for i in range(21):\n",
    "        lt.append(i*i)\n",
    "    print(lt)\n",
    "ltsq()"
   ]
  },
  {
   "cell_type": "code",
   "execution_count": 27,
   "metadata": {},
   "outputs": [
    {
     "name": "stdout",
     "output_type": "stream",
     "text": [
      "[0, 1, 4, 9, 16]\n"
     ]
    }
   ],
   "source": [
    "# function which can generate a list where the values are square of numbers between 1 and 20 (both included). Then the function needs to print the first 5 elements in the list.\n",
    "\n",
    "\n",
    "def ltsq():\n",
    "    lt=[]\n",
    "    for i in range(21):\n",
    "        lt.append(i*i)\n",
    "    print(lt[0:5])\n",
    "ltsq()"
   ]
  },
  {
   "cell_type": "code",
   "execution_count": 31,
   "metadata": {},
   "outputs": [
    {
     "name": "stdout",
     "output_type": "stream",
     "text": [
      "[256, 289, 324, 361, 400]\n"
     ]
    }
   ],
   "source": [
    "#function which can generate a list where the values are square of numbers between 1 and 20 (both included). Then the function needs to print the last 5 elements in the list.\n",
    "\n",
    "def ltsq():\n",
    "    lt=[]\n",
    "    for i in range(21):\n",
    "        lt.append(i*i)\n",
    "    print(lt[-5:])\n",
    "ltsq()"
   ]
  },
  {
   "cell_type": "code",
   "execution_count": 32,
   "metadata": {},
   "outputs": [
    {
     "name": "stdout",
     "output_type": "stream",
     "text": [
      "[25, 36, 49, 64, 81, 100, 121, 144, 169, 196, 225, 256, 289, 324, 361]\n"
     ]
    }
   ],
   "source": [
    "# function which can generate a list where the values are square of numbers between 1 and 20 (both included). Then the function needs to print all values except the first 5 elements in the list.\n",
    "def ltsq():\n",
    "    lt=[]\n",
    "    for i in range(21):\n",
    "        lt.append(i*i)\n",
    "    print(lt[5:-1])\n",
    "ltsq()"
   ]
  },
  {
   "cell_type": "code",
   "execution_count": 33,
   "metadata": {},
   "outputs": [
    {
     "name": "stdout",
     "output_type": "stream",
     "text": [
      "(0, 1, 4, 9, 16, 25, 36, 49, 64, 81, 100, 121, 144, 169, 196, 225, 256, 289, 324, 361, 400)\n"
     ]
    }
   ],
   "source": [
    "#function which can generate and print a tuple where the value are square of numbers between 1 and 20\n",
    "\n",
    "def ltsq():\n",
    "    lt=[]\n",
    "    for i in range(21):\n",
    "        lt.append(i*i)\n",
    "    lt=tuple(lt)\n",
    "    print(lt)\n",
    "ltsq()"
   ]
  },
  {
   "cell_type": "code",
   "execution_count": 35,
   "metadata": {},
   "outputs": [
    {
     "name": "stdout",
     "output_type": "stream",
     "text": [
      "(1, 2, 3, 4)\n",
      "(6, 7, 8, 9)\n"
     ]
    }
   ],
   "source": [
    "# write a program to print the first half values in one line and the last half values in one line.\n",
    "\n",
    "tp=(1,2,3,4,5,6,7,8,9,10)\n",
    "print(tp[0:4])\n",
    "print(tp[5:9])"
   ]
  },
  {
   "cell_type": "code",
   "execution_count": 44,
   "metadata": {},
   "outputs": [
    {
     "name": "stdout",
     "output_type": "stream",
     "text": [
      "(2, 4, 6, 8, 10)\n"
     ]
    }
   ],
   "source": [
    "#program to generate and print another tuple whose values are even numbers in the given tuple \n",
    "\n",
    "tp=(1,2,3,4,5,6,7,8,9,10)\n",
    "tp1=[]\n",
    "for i in tp[1::2]:\n",
    "    tp1.append(i)\n",
    "print(tuple(tp1))"
   ]
  },
  {
   "cell_type": "code",
   "execution_count": 47,
   "metadata": {},
   "outputs": [
    {
     "name": "stdout",
     "output_type": "stream",
     "text": [
      "enter the string: hello\n",
      "no\n"
     ]
    }
   ],
   "source": [
    "#program which accepts a string as input to print \"Yes\" if the string is \"yes\" or \"YES\" or \"Yes\", otherwise print \"No\". \n",
    "\n",
    "x=input(\"enter the string: \")\n",
    "if(x==\"yes\" or x==\"YES\" or x==\"Yes\"):\n",
    "    print(\"yes\")\n",
    "else:\n",
    "    print(\"no\")"
   ]
  },
  {
   "cell_type": "code",
   "execution_count": 48,
   "metadata": {},
   "outputs": [
    {
     "name": "stdout",
     "output_type": "stream",
     "text": [
      "[2, 4, 6, 8, 10]\n"
     ]
    }
   ],
   "source": [
    "# program which can filter even numbers in a list by using filter function\n",
    "\n",
    "seq=[1,2,3,4,5,6,7,8,9,10]\n",
    "result = filter(lambda x: x % 2 == 0, seq)\n",
    "print(list(result))"
   ]
  },
  {
   "cell_type": "code",
   "execution_count": 50,
   "metadata": {},
   "outputs": [
    {
     "name": "stdout",
     "output_type": "stream",
     "text": [
      "[1, 4, 9, 16, 25, 36, 49, 64, 81, 100, 121, 144, 169, 196, 225, 256, 289, 324, 361, 400]\n"
     ]
    }
   ],
   "source": [
    "#program which can map() to make a list whose elements are square of elements \n",
    "\n",
    "def sqr(x):\n",
    "    return x*x\n",
    "\n",
    "squaredNumbers = list(map(sqr, range(1,21)))\n",
    "print (squaredNumbers)"
   ]
  },
  {
   "cell_type": "code",
   "execution_count": 51,
   "metadata": {},
   "outputs": [
    {
     "name": "stdout",
     "output_type": "stream",
     "text": [
      "[4, 16, 36, 64, 100]\n"
     ]
    }
   ],
   "source": [
    "#program which can map() and filter() to make a list whose elements are square of even number \n",
    "def even(x):\n",
    "    return x%2==0\n",
    "\n",
    "def squer(x):\n",
    "    return x*x\n",
    "\n",
    "li = [1,2,3,4,5,6,7,8,9,10]\n",
    "li = map(squer,filter(even,li))   # first filters number by even number and the apply map() on the resultant elements\n",
    "print(list(li))"
   ]
  },
  {
   "cell_type": "code",
   "execution_count": 52,
   "metadata": {},
   "outputs": [
    {
     "name": "stdout",
     "output_type": "stream",
     "text": [
      "[2, 4, 6, 8, 10, 12, 14, 16, 18, 20]\n"
     ]
    }
   ],
   "source": [
    "#program which can filter() to make a list whose elements are even number between 1 and 20\n",
    "\n",
    "seq=[]\n",
    "for i in range(1,21):\n",
    "    seq.append(i)\n",
    "result = filter(lambda x: x % 2 == 0, seq)\n",
    "print(list(result))"
   ]
  },
  {
   "cell_type": "code",
   "execution_count": 53,
   "metadata": {},
   "outputs": [
    {
     "name": "stdout",
     "output_type": "stream",
     "text": [
      "I am American\n",
      "I am American\n"
     ]
    }
   ],
   "source": [
    "#Define a class named American which has a static method called printNationality.\n",
    "\n",
    "class American():\n",
    "    @staticmethod\n",
    "    def printNationality():\n",
    "        print(\"I am American\")\n",
    "\n",
    "american = American()\n",
    "american.printNationality() \n",
    "\n",
    "American.printNationality()   \n",
    "                              \n"
   ]
  },
  {
   "cell_type": "code",
   "execution_count": 54,
   "metadata": {},
   "outputs": [
    {
     "name": "stdout",
     "output_type": "stream",
     "text": [
      "<__main__.American object at 0x0000022C496638B0>\n",
      "<__main__.Newyorker object at 0x0000022C49663DF0>\n"
     ]
    }
   ],
   "source": [
    "#Define a class named American and its subclass NewYorker. \n",
    "\n",
    "class American():\n",
    "    pass\n",
    "class Newyorker(American):\n",
    "    pass\n",
    "A=American()\n",
    "N=Newyorker()\n",
    "print(A)\n",
    "print(N)"
   ]
  },
  {
   "cell_type": "code",
   "execution_count": 58,
   "metadata": {},
   "outputs": [
    {
     "name": "stdout",
     "output_type": "stream",
     "text": [
      "314.0\n"
     ]
    }
   ],
   "source": [
    "#class named Circle which can be constructed by a radius. The Circle class has a method which can compute the area. \n",
    "\n",
    "class Circle():\n",
    "    def __init__(self,r):\n",
    "        self.radius=r\n",
    "    def area(self):\n",
    "        return 3.14*(self.radius**2)\n",
    "c=Circle(10)\n",
    "print(c.area())"
   ]
  },
  {
   "cell_type": "code",
   "execution_count": 59,
   "metadata": {},
   "outputs": [
    {
     "name": "stdout",
     "output_type": "stream",
     "text": [
      "100\n"
     ]
    }
   ],
   "source": [
    "#class named Rectangle which can be constructed by a length and width. The Rectangle class has a method which can compute the area.\n",
    "\n",
    "class rect():\n",
    "    def __init__(self,l,b):\n",
    "        self.len=l\n",
    "        self.brd=b\n",
    "    def area(self):\n",
    "        return self.len*self.brd\n",
    "c=rect(10,10)\n",
    "print(c.area())"
   ]
  },
  {
   "cell_type": "code",
   "execution_count": 66,
   "metadata": {},
   "outputs": [
    {
     "name": "stdout",
     "output_type": "stream",
     "text": [
      "100\n",
      "0\n"
     ]
    }
   ],
   "source": [
    "#class named Shape and its subclass Square. The Square class has an init function which takes a length as argument. Both classes have a area function which can print the area of the shape where Shape's area is 0 by default.\n",
    "\n",
    "\n",
    "class shape():\n",
    "    def __init__(self):\n",
    "        pass\n",
    "    def area(self):\n",
    "        return 0\n",
    "class square(shape):\n",
    "    def __init__(self,l):\n",
    "        shape.__init__(self)\n",
    "        self.len=l\n",
    "    def area(self):\n",
    "        return self.len**2\n",
    "obj=square(10)\n",
    "print(obj.area())\n",
    "print(shape().area())"
   ]
  },
  {
   "cell_type": "code",
   "execution_count": 67,
   "metadata": {},
   "outputs": [
    {
     "name": "stdout",
     "output_type": "stream",
     "text": [
      "cant divide by zero\n"
     ]
    }
   ],
   "source": [
    "#function to compute 5/0 and use try/except to catch the exceptions.\n",
    "\n",
    "try:\n",
    "    x=5/0\n",
    "except ZeroDivisionError as z:\n",
    "    print(\"cant divide by zero\")"
   ]
  },
  {
   "cell_type": "code",
   "execution_count": 69,
   "metadata": {},
   "outputs": [
    {
     "name": "stdout",
     "output_type": "stream",
     "text": [
      "enter the email : vizz@gmail.com\n",
      "vizz\n"
     ]
    }
   ],
   "source": [
    "#please write program to print the user name of a given email address.\n",
    "\n",
    "email=input(\"enter the email : \")\n",
    "name=email.split('@')\n",
    "print(name[0])"
   ]
  },
  {
   "cell_type": "code",
   "execution_count": 70,
   "metadata": {},
   "outputs": [
    {
     "name": "stdout",
     "output_type": "stream",
     "text": [
      "enter the sentance : hey 1 2 3 hello\n",
      "['1', '2', '3']\n"
     ]
    }
   ],
   "source": [
    "#program which accepts a sequence of words separated by whitespace as input to print the words composed of digits only.\n",
    "\n",
    "\n",
    "import re\n",
    "regex='\\d+'\n",
    "x=input(\"enter the sentance : \")\n",
    "found=re.findall(regex,x)\n",
    "print(found)"
   ]
  },
  {
   "cell_type": "code",
   "execution_count": 72,
   "metadata": {},
   "outputs": [
    {
     "name": "stdout",
     "output_type": "stream",
     "text": [
      "hello world!\n"
     ]
    }
   ],
   "source": [
    "#Print a unicode string \"hello world\".\n",
    "\n",
    "unicodeString = u\"hello world!\"\n",
    "print (unicodeString)\n"
   ]
  },
  {
   "cell_type": "code",
   "execution_count": 3,
   "metadata": {},
   "outputs": [
    {
     "name": "stdout",
     "output_type": "stream",
     "text": [
      "enter the string : hello\n",
      "b'hello'\n"
     ]
    }
   ],
   "source": [
    "#program to read an ASCII string and to convert it to a unicode string encoded by utf-8.\n",
    "\n",
    "x=input(\"enter the string : \")\n",
    "unicodestr = x.encode('utf-8')\n",
    "print(unicodestr)"
   ]
  },
  {
   "cell_type": "code",
   "execution_count": 5,
   "metadata": {},
   "outputs": [
    {
     "name": "stdout",
     "output_type": "stream",
     "text": [
      "enter the number : 5\n",
      "3.5500000000000003\n"
     ]
    }
   ],
   "source": [
    "#program to compute 1/2+2/3+3/4+...+n/n+1 with a given n input by console (n>0).\n",
    "\n",
    "\n",
    "n=int(input(\"enter the number : \"))\n",
    "sum=0\n",
    "for i in range(1,n+1):\n",
    "    sum=sum+(float(i)/float(i+1))\n",
    "print(sum)"
   ]
  },
  {
   "cell_type": "code",
   "execution_count": 8,
   "metadata": {},
   "outputs": [
    {
     "name": "stdout",
     "output_type": "stream",
     "text": [
      "500\n"
     ]
    }
   ],
   "source": [
    "#Write a program to compute:f(n)=f(n-1)+100 when n>0 and f(0)=1\n",
    "\n",
    "def recfun(n):\n",
    "    if(n>0):\n",
    "        return recfun(n-1)+100\n",
    "    if(n==0):\n",
    "        return 0\n",
    "x=recfun(5)\n",
    "print(x)"
   ]
  },
  {
   "cell_type": "code",
   "execution_count": null,
   "metadata": {},
   "outputs": [],
   "source": []
  },
  {
   "cell_type": "code",
   "execution_count": 9,
   "metadata": {},
   "outputs": [
    {
     "name": "stdout",
     "output_type": "stream",
     "text": [
      "enter the number : 100\n",
      "0,35,70,"
     ]
    }
   ],
   "source": [
    "#program using generator to print the numbers which can be divisible by 5 and 7 between 0 and n in comma separated form while n is input by console.\n",
    "\n",
    "x=int(input(\"enter the number : \"))\n",
    "for i in range(x+1):\n",
    "    if(i%5==0 and i%7==0):\n",
    "        print(i,end=\",\")"
   ]
  },
  {
   "cell_type": "code",
   "execution_count": 16,
   "metadata": {},
   "outputs": [
    {
     "ename": "AssertionError",
     "evalue": "5 is not an even number",
     "output_type": "error",
     "traceback": [
      "\u001b[1;31m---------------------------------------------------------------------------\u001b[0m",
      "\u001b[1;31mAssertionError\u001b[0m                            Traceback (most recent call last)",
      "\u001b[1;32m<ipython-input-16-1728f902a737>\u001b[0m in \u001b[0;36m<module>\u001b[1;34m\u001b[0m\n\u001b[0;32m      1\u001b[0m \u001b[0mdata\u001b[0m \u001b[1;33m=\u001b[0m \u001b[1;33m[\u001b[0m\u001b[1;36m2\u001b[0m\u001b[1;33m,\u001b[0m\u001b[1;36m4\u001b[0m\u001b[1;33m,\u001b[0m\u001b[1;36m5\u001b[0m\u001b[1;33m,\u001b[0m\u001b[1;36m6\u001b[0m\u001b[1;33m]\u001b[0m\u001b[1;33m\u001b[0m\u001b[1;33m\u001b[0m\u001b[0m\n\u001b[0;32m      2\u001b[0m \u001b[1;32mfor\u001b[0m \u001b[0mi\u001b[0m \u001b[1;32min\u001b[0m \u001b[0mdata\u001b[0m\u001b[1;33m:\u001b[0m\u001b[1;33m\u001b[0m\u001b[1;33m\u001b[0m\u001b[0m\n\u001b[1;32m----> 3\u001b[1;33m     \u001b[1;32massert\u001b[0m \u001b[0mi\u001b[0m\u001b[1;33m%\u001b[0m\u001b[1;36m2\u001b[0m \u001b[1;33m==\u001b[0m \u001b[1;36m0\u001b[0m\u001b[1;33m,\u001b[0m \u001b[1;34m\"{} is not an even number\"\u001b[0m\u001b[1;33m.\u001b[0m\u001b[0mformat\u001b[0m\u001b[1;33m(\u001b[0m\u001b[0mi\u001b[0m\u001b[1;33m)\u001b[0m\u001b[1;33m\u001b[0m\u001b[1;33m\u001b[0m\u001b[0m\n\u001b[0m\u001b[0;32m      4\u001b[0m \u001b[1;33m\u001b[0m\u001b[0m\n",
      "\u001b[1;31mAssertionError\u001b[0m: 5 is not an even number"
     ]
    }
   ],
   "source": [
    "# assert statements to verify that every number in the list [2,4,6,8] is even.\n",
    "\n",
    "data = [2,4,5,6]\n",
    "for i in data:\n",
    "    assert i%2 == 0, \"{} is not an even number\".format(i)\n",
    "    "
   ]
  },
  {
   "cell_type": "code",
   "execution_count": 20,
   "metadata": {},
   "outputs": [
    {
     "name": "stdout",
     "output_type": "stream",
     "text": [
      "enter the expression : 1+3\n",
      "4\n"
     ]
    }
   ],
   "source": [
    "#program which accepts basic mathematic expression from console and print the evaluation result.\n",
    "\n",
    "x=input(\"enter the expression : \")\n",
    "el=eval(x)\n",
    "print(el)"
   ]
  },
  {
   "cell_type": "code",
   "execution_count": 24,
   "metadata": {},
   "outputs": [
    {
     "name": "stdout",
     "output_type": "stream",
     "text": [
      "enter the key : 4\n",
      "found at  4\n"
     ]
    }
   ],
   "source": [
    "#binary search function which searches an item in a sorted list\n",
    "\n",
    "lt=[1,2,3,4,5,6,7,8,9]\n",
    "n=int(input(\"enter the key : \"))\n",
    "for i in range(len(lt)):\n",
    "    if(n==lt[i]):\n",
    "        print(\"found at \",i+1)"
   ]
  },
  {
   "cell_type": "code",
   "execution_count": 31,
   "metadata": {},
   "outputs": [
    {
     "name": "stdout",
     "output_type": "stream",
     "text": [
      "27.419858351026065\n"
     ]
    }
   ],
   "source": [
    "#generate a random float where the value is between 10 and 100 using Python math module.\n",
    "\n",
    "import random\n",
    "rn=random.uniform(5,100)\n",
    "print(rn)"
   ]
  },
  {
   "cell_type": "code",
   "execution_count": 32,
   "metadata": {},
   "outputs": [
    {
     "name": "stdout",
     "output_type": "stream",
     "text": [
      "8\n"
     ]
    }
   ],
   "source": [
    "# program to output a random even number between 0 and 10 inclusive using random module and list comprehension.\n",
    "\n",
    "import random\n",
    "lt = [i for i in range(0,11,2)]\n",
    "print(random.choice(lt))"
   ]
  },
  {
   "cell_type": "code",
   "execution_count": 34,
   "metadata": {},
   "outputs": [
    {
     "name": "stdout",
     "output_type": "stream",
     "text": [
      "[9, 6, 3]\n"
     ]
    }
   ],
   "source": [
    "# program to shuffle and print the list [3,6,7,8]\n",
    "\n",
    "import random \n",
    "lt=[3,6,9]\n",
    "random.shuffle(lt)\n",
    "print(lt)"
   ]
  },
  {
   "cell_type": "code",
   "execution_count": 36,
   "metadata": {},
   "outputs": [
    {
     "name": "stdout",
     "output_type": "stream",
     "text": [
      "I Play Hockey \n",
      "I Play Football \n",
      "I Love Hockey \n",
      "I Love Football \n",
      "You Play Hockey \n",
      "You Play Football \n",
      "You Love Hockey \n",
      "You Love Football \n"
     ]
    }
   ],
   "source": [
    "# write a program to generate all sentences where subject is in [\"I\", \"You\"] and verb is in [\"Play\", \"Love\"] and the object is in [\"Hockey\",\"Football\"].\n",
    "\n",
    "subjects=[\"I\", \"You\"]\n",
    "verbs=[\"Play\", \"Love\"]\n",
    "objects=[\"Hockey\",\"Football\"]\n",
    "\n",
    "for sub in subjects:\n",
    "    for ver in verbs:\n",
    "        for obj in objects:\n",
    "            print(\"{} {} {} \".format(sub,ver,obj))"
   ]
  },
  {
   "cell_type": "code",
   "execution_count": 51,
   "metadata": {},
   "outputs": [
    {
     "name": "stdout",
     "output_type": "stream",
     "text": [
      "[5, 77, 45, 12]\n"
     ]
    }
   ],
   "source": [
    "# program to print the list after removing delete even numbers in [5,6,77,45,22,12,24].\n",
    "\n",
    "lt=[5,6,77,45,22,12,24]\n",
    "for i in lt:\n",
    "    if(i%2 == 0):\n",
    "        lt.remove(i)\n",
    "print(lt)        \n"
   ]
  },
  {
   "cell_type": "code",
   "execution_count": 54,
   "metadata": {},
   "outputs": [
    {
     "name": "stdout",
     "output_type": "stream",
     "text": [
      "[12, 24, 88, 120, 155]\n"
     ]
    }
   ],
   "source": [
    "#please write a program to print the list after removing delete numbers which are divisible by 5 and 7 in [12,24,35,70,88,120,155].\n",
    "\n",
    "li = [12,24,35,70,88,120,155]\n",
    "lst = [x for x in li if x%35!=0 ]\n",
    "print(lst)"
   ]
  },
  {
   "cell_type": "code",
   "execution_count": 56,
   "metadata": {},
   "outputs": [
    {
     "name": "stdout",
     "output_type": "stream",
     "text": [
      "[24, 70, 120]\n"
     ]
    }
   ],
   "source": [
    "#please write a program to print the list after removing the 0th, 2nd, 4th,6th numbers in [12,24,35,70,88,120,155].\n",
    "\n",
    "li = [12,24,35,70,88,120,155]\n",
    "lst=[li[x] for x in range(len(li)) if x%2!=0]\n",
    "print(lst)"
   ]
  },
  {
   "cell_type": "code",
   "execution_count": 59,
   "metadata": {},
   "outputs": [
    {
     "name": "stdout",
     "output_type": "stream",
     "text": [
      "[[[0, 0, 0], [0, 0, 0], [0, 0, 0], [0, 0, 0], [0, 0, 0]], [[0, 0, 0], [0, 0, 0], [0, 0, 0], [0, 0, 0], [0, 0, 0]], [[0, 0, 0], [0, 0, 0], [0, 0, 0], [0, 0, 0], [0, 0, 0]], [[0, 0, 0], [0, 0, 0], [0, 0, 0], [0, 0, 0], [0, 0, 0]], [[0, 0, 0], [0, 0, 0], [0, 0, 0], [0, 0, 0], [0, 0, 0]], [[0, 0, 0], [0, 0, 0], [0, 0, 0], [0, 0, 0], [0, 0, 0]], [[0, 0, 0], [0, 0, 0], [0, 0, 0], [0, 0, 0], [0, 0, 0]], [[0, 0, 0], [0, 0, 0], [0, 0, 0], [0, 0, 0], [0, 0, 0]]]\n"
     ]
    }
   ],
   "source": [
    "# please write a program generate a 3*5*8 3D array whose each element is 0.\n",
    "\n",
    "mat = [[[0 for i in range(3)] for j in range(5)] for k in range(8)]\n",
    "print(mat)"
   ]
  },
  {
   "cell_type": "code",
   "execution_count": 60,
   "metadata": {},
   "outputs": [
    {
     "name": "stdout",
     "output_type": "stream",
     "text": [
      "[12, 24, 35, 70, 88, 120, 155]\n"
     ]
    }
   ],
   "source": [
    "#please write a program to print the list after removing the 0th,4th,5th numbers in [12,24,35,70,88,120,155]\n",
    "\n",
    "li = [12,24,35,70,88,120,155]\n",
    "lst=[li[x] for x in range(len(li)) if x!=0 or x!=4 or x!=5]\n",
    "print(lst)"
   ]
  },
  {
   "cell_type": "code",
   "execution_count": 62,
   "metadata": {},
   "outputs": [
    {
     "name": "stdout",
     "output_type": "stream",
     "text": [
      "[12, 35, 70, 88, 120, 155]\n"
     ]
    }
   ],
   "source": [
    "#please write a program to print the list after removing the value 24 in [12,24,35,24,88,120,155]\n",
    "\n",
    "li = [12,24,35,70,88,120,155]\n",
    "lst = [x for x in li if x!=24 ]\n",
    "print(lst)"
   ]
  },
  {
   "cell_type": "code",
   "execution_count": 63,
   "metadata": {},
   "outputs": [
    {
     "name": "stdout",
     "output_type": "stream",
     "text": [
      "[35]\n"
     ]
    }
   ],
   "source": [
    "#given lists [1,3,6,78,35,55] and [12,24,35,24,88,120,155], write a program to make a list whose elements are intersection of the above given lists.\n",
    "\n",
    "def intrsec(l1,l2):\n",
    "    l3=[x for x in l1 if x in l2]\n",
    "    return l3\n",
    "l1=[1,3,6,78,35,55]\n",
    "l2=[12,24,35,24,88,120,155]\n",
    "print(intrsec(l1,l2))"
   ]
  },
  {
   "cell_type": "code",
   "execution_count": 68,
   "metadata": {},
   "outputs": [
    {
     "name": "stdout",
     "output_type": "stream",
     "text": [
      "[155, 120, 88, 35, 24, 12]\n"
     ]
    }
   ],
   "source": [
    "#write a program to print this list after removing all duplicate values with original order reserved.\n",
    "\n",
    "l1=[12,24,35,24,88,120,155,88,120,155]\n",
    "l2=[]\n",
    "for i in l1:\n",
    "    if i not in l2:\n",
    "        l2.append(i)\n",
    "l2.reverse()\n",
    "print(l2)"
   ]
  },
  {
   "cell_type": "code",
   "execution_count": 73,
   "metadata": {},
   "outputs": [
    {
     "name": "stdout",
     "output_type": "stream",
     "text": [
      "male\n",
      "female\n"
     ]
    }
   ],
   "source": [
    "# class Person and its two child classes: Male and Female. All classes have a method \"getGender\" which can print \"Male\" for Male class and \"Female\" for Female class.\n",
    "\n",
    "\n",
    "class person():\n",
    "    def getgender(self):\n",
    "        print(\"gender\")\n",
    "class male(person):\n",
    "    def getgender(self):\n",
    "        print(\"male\")\n",
    "class female(person):\n",
    "    def getgender(self):\n",
    "        print(\"female\")\n",
    "obj1=male()\n",
    "obj1.getgender()\n",
    "obj2=female()\n",
    "obj2.getgender()"
   ]
  },
  {
   "cell_type": "code",
   "execution_count": 74,
   "metadata": {},
   "outputs": [
    {
     "name": "stdout",
     "output_type": "stream",
     "text": [
      "Counter({'a': 2, 'b': 2, 'c': 2, 'd': 1, 'e': 1, 'f': 1, 'g': 1})\n"
     ]
    }
   ],
   "source": [
    "# program which count and print the numbers of each character in a string input by console.\n",
    "\n",
    "from collections import Counter\n",
    "\n",
    "lt='abcdefgabc'\n",
    "res=Counter(lt)\n",
    "\n",
    "print(res)"
   ]
  },
  {
   "cell_type": "code",
   "execution_count": 75,
   "metadata": {},
   "outputs": [
    {
     "name": "stdout",
     "output_type": "stream",
     "text": [
      "enter the string : hello\n",
      "olleh\n"
     ]
    }
   ],
   "source": [
    "# program which accepts a string from console and print it in reverse order.\n",
    "\n",
    "\n",
    "x=input(\"enter the string : \")\n",
    "str=x[::-1]\n",
    "print(str)"
   ]
  },
  {
   "cell_type": "code",
   "execution_count": 76,
   "metadata": {},
   "outputs": [
    {
     "name": "stdout",
     "output_type": "stream",
     "text": [
      "enter the string : hello\n",
      "hlo\n"
     ]
    }
   ],
   "source": [
    "#program which accepts a string from console and print the characters that have even indexes\n",
    "\n",
    "x=input(\"enter the string : \")\n",
    "str=x[::2]\n",
    "print(str)"
   ]
  },
  {
   "cell_type": "code",
   "execution_count": 78,
   "metadata": {},
   "outputs": [
    {
     "name": "stdout",
     "output_type": "stream",
     "text": [
      "[(1, 2, 3), (1, 3, 2), (2, 1, 3), (2, 3, 1), (3, 1, 2), (3, 2, 1)]\n"
     ]
    }
   ],
   "source": [
    "#program which prints all permutations of [1,2,3]\n",
    "\n",
    "\n",
    "import itertools\n",
    "lt=list(itertools.permutations([1,2,3]))\n",
    "print(lt)\n",
    "\n"
   ]
  },
  {
   "cell_type": "code",
   "execution_count": 80,
   "metadata": {},
   "outputs": [
    {
     "name": "stdout",
     "output_type": "stream",
     "text": [
      "(23, 12)\n"
     ]
    }
   ],
   "source": [
    "#Write a program to solve a classic ancient Chinese puzzle: \n",
    "#We count 35 heads and 94 legs among the chickens and rabbits in a farm. How many rabbits and how many chickens do we have?\n",
    "\n",
    "\n",
    "\n",
    "def puzzle(heads,legs):\n",
    "    n='Not solveable'\n",
    "    for i in range(heads+1):\n",
    "        j=heads-i\n",
    "        if 2*i+4*j==legs:\n",
    "            return i,j\n",
    "    return n,n\n",
    "\n",
    "heads = 35\n",
    "legs = 94\n",
    "x=puzzle(heads,legs)\n",
    "print (x)\n"
   ]
  },
  {
   "cell_type": "code",
   "execution_count": null,
   "metadata": {},
   "outputs": [],
   "source": []
  }
 ],
 "metadata": {
  "kernelspec": {
   "display_name": "Python 3",
   "language": "python",
   "name": "python3"
  },
  "language_info": {
   "codemirror_mode": {
    "name": "ipython",
    "version": 3
   },
   "file_extension": ".py",
   "mimetype": "text/x-python",
   "name": "python",
   "nbconvert_exporter": "python",
   "pygments_lexer": "ipython3",
   "version": "3.8.3"
  }
 },
 "nbformat": 4,
 "nbformat_minor": 5
}
